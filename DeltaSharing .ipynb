{
 "cells": [
  {
   "cell_type": "markdown",
   "id": "dependent-mouse",
   "metadata": {},
   "source": [
    "# Delta Sharing using pandas to access shared delta tables on Demo server "
   ]
  },
  {
   "cell_type": "code",
   "execution_count": 1,
   "id": "discrete-staff",
   "metadata": {
    "slideshow": {
     "slide_type": "-"
    }
   },
   "outputs": [],
   "source": [
    "import delta_sharing\n",
    "import os"
   ]
  },
  {
   "cell_type": "code",
   "execution_count": 2,
   "id": "antique-implementation",
   "metadata": {},
   "outputs": [
    {
     "name": "stdout",
     "output_type": "stream",
     "text": [
      "{\r\n",
      "  \"shareCredentialsVersion\": 1,\r\n",
      "  \"endpoint\": \"https://sharing.delta.io/delta-sharing/\",\r\n",
      "  \"bearerToken\": \"faaie590d541265bcab1f2de9813274bf233\"\r\n",
      "}"
     ]
    }
   ],
   "source": [
    "!cat ../delta-sharing/open-datasets.share"
   ]
  },
  {
   "cell_type": "code",
   "execution_count": 3,
   "id": "useful-merchant",
   "metadata": {
    "slideshow": {
     "slide_type": "-"
    }
   },
   "outputs": [
    {
     "name": "stdout",
     "output_type": "stream",
     "text": [
      "########### All Available Tables #############\n",
      "[Table(name='COVID_19_NYT', share='delta_sharing', schema='default'), Table(name='boston-housing', share='delta_sharing', schema='default'), Table(name='flight-asa_2008', share='delta_sharing', schema='default'), Table(name='lending_club', share='delta_sharing', schema='default'), Table(name='nyctaxi_2019', share='delta_sharing', schema='default'), Table(name='nyctaxi_2019_part', share='delta_sharing', schema='default'), Table(name='owid-covid-data', share='delta_sharing', schema='default')]\n",
      "########### Loading delta_sharing.default.lending_club as a Pandas DataFrame #############\n"
     ]
    }
   ],
   "source": [
    "# Point to the profile file. It can be a file on the local file system or a file on a remote storage.\n",
    "profile_file = \"../delta-sharing/open-datasets.share\"\n",
    "\n",
    "# Create a SharingClient.\n",
    "client = delta_sharing.SharingClient(profile_file)\n",
    "\n",
    "# List all shared tables.\n",
    "print(\"########### All Available Tables #############\")\n",
    "print(client.list_all_tables())\n",
    "\n",
    "# Create a url to access a shared table.\n",
    "# A table path is the profile file path following with `#` and the fully qualified name of a table \n",
    "#(`<share-name>.<schema-name>.<table-name>`).\n",
    "table_url = profile_file + \"#delta_sharing.default.lending_club\"\n",
    "\n",
    "# Load a table as a Pandas DataFrame. This can be used to process tables that can fit in the memory.\n",
    "print(\"########### Loading delta_sharing.default.lending_club as a Pandas DataFrame #############\")\n",
    "#data = delta_sharing.load_as_pandas(table_url)"
   ]
  },
  {
   "cell_type": "code",
   "execution_count": null,
   "id": "immune-strap",
   "metadata": {},
   "outputs": [],
   "source": []
  }
 ],
 "metadata": {
  "celltoolbar": "Slideshow",
  "kernelspec": {
   "display_name": "Python 3",
   "language": "python",
   "name": "python3"
  },
  "language_info": {
   "codemirror_mode": {
    "name": "ipython",
    "version": 3
   },
   "file_extension": ".py",
   "mimetype": "text/x-python",
   "name": "python",
   "nbconvert_exporter": "python",
   "pygments_lexer": "ipython3",
   "version": "3.8.9"
  }
 },
 "nbformat": 4,
 "nbformat_minor": 5
}
