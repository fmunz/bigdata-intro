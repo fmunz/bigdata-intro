{
 "cells": [
  {
   "cell_type": "markdown",
   "id": "extraordinary-debut",
   "metadata": {},
   "source": [
    "\n",
    "\n",
    "# Delta.io with fake Customer Data"
   ]
  },
  {
   "cell_type": "code",
   "execution_count": 2,
   "id": "secure-england",
   "metadata": {},
   "outputs": [
    {
     "data": {
      "text/html": [
       "\n",
       "            <div>\n",
       "                <p><b>SparkSession - hive</b></p>\n",
       "                \n",
       "        <div>\n",
       "            <p><b>SparkContext</b></p>\n",
       "\n",
       "            <p><a href=\"http://c02dq4h0md6t.fritz.box:4040\">Spark UI</a></p>\n",
       "\n",
       "            <dl>\n",
       "              <dt>Version</dt>\n",
       "                <dd><code>v3.1.1</code></dd>\n",
       "              <dt>Master</dt>\n",
       "                <dd><code>local[*]</code></dd>\n",
       "              <dt>AppName</dt>\n",
       "                <dd><code>PySparkShell</code></dd>\n",
       "            </dl>\n",
       "        </div>\n",
       "        \n",
       "            </div>\n",
       "        "
      ],
      "text/plain": [
       "<pyspark.sql.session.SparkSession at 0x11d8b6fa0>"
      ]
     },
     "execution_count": 2,
     "metadata": {},
     "output_type": "execute_result"
    }
   ],
   "source": [
    "spark"
   ]
  },
  {
   "cell_type": "code",
   "execution_count": 3,
   "id": "stable-artist",
   "metadata": {},
   "outputs": [],
   "source": [
    "# make sure to have clean start for demo!\n",
    "!rm -rf mock_delta"
   ]
  },
  {
   "cell_type": "code",
   "execution_count": 5,
   "id": "american-median",
   "metadata": {},
   "outputs": [],
   "source": [
    "# read directory of JSON datasets with multiple datasets per file \n",
    "\n",
    "customersClassic = spark.read.format(\"json\").load(\"mock/\")\n",
    "\n",
    "# then save as delta. [parquet files could also be updated in place]\n",
    "customersClassic.write.format(\"delta\").save(\"mock_delta\")\n",
    "\n",
    "# for simplicity we read from and write to the fs, but it could be S3 or another object store"
   ]
  },
  {
   "cell_type": "code",
   "execution_count": 4,
   "id": "little-agent",
   "metadata": {},
   "outputs": [
    {
     "name": "stdout",
     "output_type": "stream",
     "text": [
      "people1.json people2.json people3.json\r\n"
     ]
    }
   ],
   "source": [
    "!ls mock"
   ]
  },
  {
   "cell_type": "code",
   "execution_count": 6,
   "id": "enormous-speaker",
   "metadata": {},
   "outputs": [],
   "source": [
    "#reread customer data in delta format\n",
    "customers = spark.read.format(\"delta\").load(\"mock_delta\")"
   ]
  },
  {
   "cell_type": "code",
   "execution_count": 7,
   "id": "smoking-hampshire",
   "metadata": {},
   "outputs": [
    {
     "data": {
      "text/plain": [
       "30"
      ]
     },
     "execution_count": 7,
     "metadata": {},
     "output_type": "execute_result"
    }
   ],
   "source": [
    "customers.count()"
   ]
  },
  {
   "cell_type": "code",
   "execution_count": 8,
   "id": "functional-pasta",
   "metadata": {},
   "outputs": [
    {
     "name": "stdout",
     "output_type": "stream",
     "text": [
      "root\n",
      " |-- car_make: string (nullable = true)\n",
      " |-- car_year: long (nullable = true)\n",
      " |-- email: string (nullable = true)\n",
      " |-- first_name: string (nullable = true)\n",
      " |-- id: long (nullable = true)\n",
      " |-- last_name: string (nullable = true)\n",
      "\n"
     ]
    }
   ],
   "source": [
    "customers.printSchema()"
   ]
  },
  {
   "cell_type": "code",
   "execution_count": 9,
   "id": "realistic-globe",
   "metadata": {},
   "outputs": [
    {
     "name": "stdout",
     "output_type": "stream",
     "text": [
      "+--------+--------+--------------------+----------+---+----------+\n",
      "|car_make|car_year|               email|first_name| id| last_name|\n",
      "+--------+--------+--------------------+----------+---+----------+\n",
      "|    Jeep|    2008|  creddihoughk@de.vu|     Charo| 21|Reddihough|\n",
      "|   Lexus|    2006|mbrewinl@yolasite...|    Maddie| 22|    Brewin|\n",
      "|   Dodge|    1997|cblaskettm@siteme...|   Chelsea| 23|  Blaskett|\n",
      "|Cadillac|    1994|kdullardn@indiego...|     Karee| 24|   Dullard|\n",
      "|    Saab|    2006|etunsleyo@reuters...|    Eduard| 25|   Tunsley|\n",
      "+--------+--------+--------------------+----------+---+----------+\n",
      "only showing top 5 rows\n",
      "\n"
     ]
    }
   ],
   "source": [
    "customers.show(5)"
   ]
  },
  {
   "cell_type": "markdown",
   "id": "owned-dominican",
   "metadata": {},
   "source": [
    "# Check for oldtimers from Audi"
   ]
  },
  {
   "cell_type": "code",
   "execution_count": 10,
   "id": "cardiac-timeline",
   "metadata": {},
   "outputs": [
    {
     "name": "stdout",
     "output_type": "stream",
     "text": [
      "+--------+--------+--------------------+----------+---+----------+\n",
      "|car_make|car_year|               email|first_name| id| last_name|\n",
      "+--------+--------+--------------------+----------+---+----------+\n",
      "|    Audi|    1991|binkin5@washingto...|    Briana|  6|     Inkin|\n",
      "|    Audi|    1986|fbuckthorpe6@syma...|   Findley|  7|Buckthorpe|\n",
      "|    Audi|    1987|  cmoehled@imgur.com|     Camel| 14|    Moehle|\n",
      "+--------+--------+--------------------+----------+---+----------+\n",
      "\n"
     ]
    }
   ],
   "source": [
    "customers.filter(customers['car_year'] < 2002).filter(customers['car_make'] == \"Audi\").show()"
   ]
  },
  {
   "cell_type": "code",
   "execution_count": 12,
   "id": "neither-leonard",
   "metadata": {},
   "outputs": [],
   "source": [
    "# register DF as table\n",
    "customers.createOrReplaceTempView(\"customers\")"
   ]
  },
  {
   "cell_type": "code",
   "execution_count": 13,
   "id": "atomic-representation",
   "metadata": {},
   "outputs": [
    {
     "name": "stdout",
     "output_type": "stream",
     "text": [
      "+--------------------+--------+\n",
      "|               email|car_make|\n",
      "+--------------------+--------+\n",
      "|binkin5@washingto...|    Audi|\n",
      "|fbuckthorpe6@syma...|    Audi|\n",
      "|  cmoehled@imgur.com|    Audi|\n",
      "+--------------------+--------+\n",
      "\n"
     ]
    }
   ],
   "source": [
    "# now we can use sql\n",
    "spark.sql('SELECT email,car_make FROM customers WHERE car_make == \"Audi\" AND car_year < 2002 ').show()"
   ]
  },
  {
   "cell_type": "markdown",
   "id": "moral-sunglasses",
   "metadata": {},
   "source": [
    "# Let's buy an old Audi"
   ]
  },
  {
   "cell_type": "code",
   "execution_count": 14,
   "id": "military-combine",
   "metadata": {},
   "outputs": [
    {
     "data": {
      "text/plain": [
       "DataFrame[]"
      ]
     },
     "execution_count": 14,
     "metadata": {},
     "output_type": "execute_result"
    }
   ],
   "source": [
    "# NOTE, there is no UPDATE for Spark tables. But delta enables MERGE with UPSERT.\n",
    "# this update uses ACID transactions and the data is potentially in different JSON files\n",
    "spark.sql('UPDATE customers SET email = \"hello@world.com\" WHERE car_make = \"Audi\" ')"
   ]
  },
  {
   "cell_type": "code",
   "execution_count": 15,
   "id": "infinite-operations",
   "metadata": {},
   "outputs": [
    {
     "name": "stdout",
     "output_type": "stream",
     "text": [
      "+---------------+--------+\n",
      "|          email|car_make|\n",
      "+---------------+--------+\n",
      "|hello@world.com|    Audi|\n",
      "|hello@world.com|    Audi|\n",
      "|hello@world.com|    Audi|\n",
      "+---------------+--------+\n",
      "\n"
     ]
    }
   ],
   "source": [
    "# verify update\n",
    "spark.sql('SELECT email, car_make FROM customers WHERE car_make == \"Audi\" AND car_year < 2002 ').show()"
   ]
  },
  {
   "cell_type": "markdown",
   "id": "satisfied-glance",
   "metadata": {},
   "source": [
    "# Lets change the Audi to a Porsche (all Audis ...)"
   ]
  },
  {
   "cell_type": "code",
   "execution_count": 16,
   "id": "tired-amount",
   "metadata": {},
   "outputs": [
    {
     "data": {
      "text/plain": [
       "DataFrame[]"
      ]
     },
     "execution_count": 16,
     "metadata": {},
     "output_type": "execute_result"
    }
   ],
   "source": [
    "spark.sql('UPDATE customers SET car_make = \"Porsche\" WHERE car_make = \"Audi\" ')"
   ]
  },
  {
   "cell_type": "markdown",
   "id": "aggregate-kidney",
   "metadata": {},
   "source": [
    "# Time travel (backwards!)"
   ]
  },
  {
   "cell_type": "code",
   "execution_count": 19,
   "id": "considerable-video",
   "metadata": {},
   "outputs": [
    {
     "name": "stdout",
     "output_type": "stream",
     "text": [
      "+-----------+--------+--------------------+----------+---+------------+\n",
      "|   car_make|car_year|               email|first_name| id|   last_name|\n",
      "+-----------+--------+--------------------+----------+---+------------+\n",
      "|       Jeep|    2008|  creddihoughk@de.vu|     Charo| 21|  Reddihough|\n",
      "|      Lexus|    2006|mbrewinl@yolasite...|    Maddie| 22|      Brewin|\n",
      "|      Dodge|    1997|cblaskettm@siteme...|   Chelsea| 23|    Blaskett|\n",
      "|   Cadillac|    1994|kdullardn@indiego...|     Karee| 24|     Dullard|\n",
      "|       Saab|    2006|etunsleyo@reuters...|    Eduard| 25|     Tunsley|\n",
      "|     Nissan|    1992|dyakobovitzp@beha...|    Drusie| 26|  Yakobovitz|\n",
      "|       Ford|    1984|  tvondraq@google.de|      Tome| 27|      Vondra|\n",
      "|      Mazda|    1992|hmcasterr@census.gov|  Halimeda| 28|     McAster|\n",
      "|      Dodge|    2006|     coneils@sun.com|    Cassie| 29|      O'Neil|\n",
      "|      Acura|    1996|avoset@amazonaws.com|     Angie| 30|        Vose|\n",
      "|      Eagle|    1994|jmissona@craigsli...|     James| 11|      Misson|\n",
      "|      Honda|    2009|cdovidaitisb@uol....|   Clarine| 12|  Dovidaitis|\n",
      "|     Subaru|    1990|lflett0@techcrunc...|    Lester|  1|       Flett|\n",
      "|Lamborghini|    2003|   koliveti1@ucoz.ru|     Karel|  2|     Oliveti|\n",
      "|        BMW|    2003| mwims2@freewebs.com|     Mayne|  3|        Wims|\n",
      "|      Mazda|    2007|sfallanche3@myspa...|   Suzanna|  4|   Fallanche|\n",
      "|   Cadillac|    2007|lbortolozzi4@wsj.com|    Lucina|  5|  Bortolozzi|\n",
      "|    Porsche|    1991|     hello@world.com|    Briana|  6|       Inkin|\n",
      "|    Porsche|    1986|     hello@world.com|   Findley|  7|  Buckthorpe|\n",
      "| Volkswagen|    1976|sblockey7@statcou...|   Sephira|  8|     Blockey|\n",
      "|     Shelby|    1968|llean8@chicagotri...|   Lilllie|  9|        Lean|\n",
      "|        Ram|    2012|sduchateau9@slash...|   Sherman| 10|   Duchateau|\n",
      "|     Nissan|    1994|dsandercroftc@nhs.uk|    Derrek| 13| Sandercroft|\n",
      "|    Porsche|    1987|     hello@world.com|     Camel| 14|      Moehle|\n",
      "|    Pontiac|    1984|boakinfolde@wooth...|     Becki| 15|   Oakinfold|\n",
      "|    Pontiac|    1999|smasterf@wundergr...|    Sianna| 16|      Master|\n",
      "| Volkswagen|    2002|ascarfg@columbia.edu|     Alane| 17|       Scarf|\n",
      "|    Bugatti|    2009|  debbingsh@yelp.com|    Darcie| 18|     Ebbings|\n",
      "|    Pontiac|    1973|cstollsteineri@t-...|    Carole| 19|Stollsteiner|\n",
      "|     Toyota|    1995|apetrouj@acquiret...|    Agnese| 20|      Petrou|\n",
      "+-----------+--------+--------------------+----------+---+------------+\n",
      "\n"
     ]
    }
   ],
   "source": [
    "# try different version of the table 0,1,2 \n",
    "df = spark.read.format(\"delta\").option(\"versionAsOf\", 2).load(\"mock_delta\")\n",
    "\n",
    "df.show(30)\n"
   ]
  },
  {
   "cell_type": "markdown",
   "id": "stuck-clarity",
   "metadata": {},
   "source": [
    "# Use Python API to show full history"
   ]
  },
  {
   "cell_type": "code",
   "execution_count": 20,
   "id": "muslim-proposition",
   "metadata": {},
   "outputs": [
    {
     "name": "stdout",
     "output_type": "stream",
     "text": [
      "+-------+--------------------+------+--------+---------+--------------------+----+--------+---------+-----------+--------------+-------------+--------------------+------------+\n",
      "|version|           timestamp|userId|userName|operation| operationParameters| job|notebook|clusterId|readVersion|isolationLevel|isBlindAppend|    operationMetrics|userMetadata|\n",
      "+-------+--------------------+------+--------+---------+--------------------+----+--------+---------+-----------+--------------+-------------+--------------------+------------+\n",
      "|      2|2021-06-08 17:38:...|  null|    null|   UPDATE|{predicate -> (ca...|null|    null|     null|          1|          null|        false|{numRemovedFiles ...|        null|\n",
      "|      1|2021-06-08 17:38:...|  null|    null|   UPDATE|{predicate -> (ca...|null|    null|     null|          0|          null|        false|{numRemovedFiles ...|        null|\n",
      "|      0|2021-06-08 17:36:...|  null|    null|    WRITE|{mode -> ErrorIfE...|null|    null|     null|       null|          null|         true|{numFiles -> 3, n...|        null|\n",
      "+-------+--------------------+------+--------+---------+--------------------+----+--------+---------+-----------+--------------+-------------+--------------------+------------+\n",
      "\n"
     ]
    }
   ],
   "source": [
    "from delta.tables import *\n",
    "from pyspark.sql.functions import *\n",
    "\n",
    "# Access the Delta Lake table\n",
    "deltaTable = DeltaTable.forPath(spark,\"mock_delta\")\n",
    "# Delete all on-time and early flights\n",
    "deltaTable.history().show(5)\n",
    "\n",
    "# select(\"version\",\"operation\",\"operationParameters\")"
   ]
  },
  {
   "cell_type": "code",
   "execution_count": 17,
   "id": "swedish-fusion",
   "metadata": {
    "collapsed": true
   },
   "outputs": [
    {
     "name": "stdout",
     "output_type": "stream",
     "text": [
      "\u001b[34m_delta_log\u001b[m\u001b[m\r\n",
      "part-00000-27f5e15f-5f55-475d-b821-1be71eec623a-c000.snappy.parquet\r\n",
      "part-00000-2a4b36a8-5de0-4412-b772-bebb02719798-c000.snappy.parquet\r\n",
      "part-00000-e78901b1-9918-4392-8e2e-fb419f0e1088-c000.snappy.parquet\r\n",
      "part-00001-968bf01f-ae30-47c5-9c06-19a26be948c0-c000.snappy.parquet\r\n",
      "part-00001-b6c588cb-81ef-41a4-b688-4417a2233643-c000.snappy.parquet\r\n",
      "part-00001-cc330c14-350e-4007-8e4e-9d7bac6bed67-c000.snappy.parquet\r\n",
      "part-00002-f800694d-159f-4620-8736-614cb6bd77ef-c000.snappy.parquet\r\n"
     ]
    }
   ],
   "source": [
    "! ls mock_delta "
   ]
  },
  {
   "cell_type": "code",
   "execution_count": 18,
   "id": "corporate-poverty",
   "metadata": {
    "collapsed": true
   },
   "outputs": [
    {
     "name": "stdout",
     "output_type": "stream",
     "text": [
      "total 24\r\n",
      "drwxr-xr-x   5 frank.munz  staff   160 Jun  8 11:23 \u001b[34m.\u001b[m\u001b[m\r\n",
      "drwxr-xr-x  17 frank.munz  staff   544 Jun  8 11:23 \u001b[34m..\u001b[m\u001b[m\r\n",
      "-rw-r--r--   1 frank.munz  staff  1484 Jun  8 11:22 00000000000000000000.json\r\n",
      "-rw-r--r--   1 frank.munz  staff  1080 Jun  8 11:23 00000000000000000001.json\r\n",
      "-rw-r--r--   1 frank.munz  staff  1080 Jun  8 11:23 00000000000000000002.json\r\n"
     ]
    }
   ],
   "source": [
    "# for delta log details,\n",
    "# see: https://databricks.com/blog/2019/08/21/diving-into-delta-lake-unpacking-the-transaction-log.html\n",
    "\n",
    "! ls -la mock_delta/_delta_log"
   ]
  },
  {
   "cell_type": "code",
   "execution_count": 19,
   "id": "abroad-southeast",
   "metadata": {
    "collapsed": true
   },
   "outputs": [
    {
     "name": "stdout",
     "output_type": "stream",
     "text": [
      "+-----------+--------+--------------------+----------+---+------------+\n",
      "|   car_make|car_year|               email|first_name| id|   last_name|\n",
      "+-----------+--------+--------------------+----------+---+------------+\n",
      "|       Jeep|    2008|  creddihoughk@de.vu|     Charo| 21|  Reddihough|\n",
      "|      Lexus|    2006|mbrewinl@yolasite...|    Maddie| 22|      Brewin|\n",
      "|      Dodge|    1997|cblaskettm@siteme...|   Chelsea| 23|    Blaskett|\n",
      "|   Cadillac|    1994|kdullardn@indiego...|     Karee| 24|     Dullard|\n",
      "|       Saab|    2006|etunsleyo@reuters...|    Eduard| 25|     Tunsley|\n",
      "|     Nissan|    1992|dyakobovitzp@beha...|    Drusie| 26|  Yakobovitz|\n",
      "|       Ford|    1984|  tvondraq@google.de|      Tome| 27|      Vondra|\n",
      "|      Mazda|    1992|hmcasterr@census.gov|  Halimeda| 28|     McAster|\n",
      "|      Dodge|    2006|     coneils@sun.com|    Cassie| 29|      O'Neil|\n",
      "|      Acura|    1996|avoset@amazonaws.com|     Angie| 30|        Vose|\n",
      "|      Eagle|    1994|jmissona@craigsli...|     James| 11|      Misson|\n",
      "|      Honda|    2009|cdovidaitisb@uol....|   Clarine| 12|  Dovidaitis|\n",
      "|     Subaru|    1990|lflett0@techcrunc...|    Lester|  1|       Flett|\n",
      "|Lamborghini|    2003|   koliveti1@ucoz.ru|     Karel|  2|     Oliveti|\n",
      "|        BMW|    2003| mwims2@freewebs.com|     Mayne|  3|        Wims|\n",
      "|      Mazda|    2007|sfallanche3@myspa...|   Suzanna|  4|   Fallanche|\n",
      "|   Cadillac|    2007|lbortolozzi4@wsj.com|    Lucina|  5|  Bortolozzi|\n",
      "|    Porsche|    1991|     hello@world.com|    Briana|  6|       Inkin|\n",
      "|    Porsche|    1986|     hello@world.com|   Findley|  7|  Buckthorpe|\n",
      "| Volkswagen|    1976|sblockey7@statcou...|   Sephira|  8|     Blockey|\n",
      "|     Shelby|    1968|llean8@chicagotri...|   Lilllie|  9|        Lean|\n",
      "|        Ram|    2012|sduchateau9@slash...|   Sherman| 10|   Duchateau|\n",
      "|     Nissan|    1994|dsandercroftc@nhs.uk|    Derrek| 13| Sandercroft|\n",
      "|    Porsche|    1987|     hello@world.com|     Camel| 14|      Moehle|\n",
      "|    Pontiac|    1984|boakinfolde@wooth...|     Becki| 15|   Oakinfold|\n",
      "|    Pontiac|    1999|smasterf@wundergr...|    Sianna| 16|      Master|\n",
      "| Volkswagen|    2002|ascarfg@columbia.edu|     Alane| 17|       Scarf|\n",
      "|    Bugatti|    2009|  debbingsh@yelp.com|    Darcie| 18|     Ebbings|\n",
      "|    Pontiac|    1973|cstollsteineri@t-...|    Carole| 19|Stollsteiner|\n",
      "|     Toyota|    1995|apetrouj@acquiret...|    Agnese| 20|      Petrou|\n",
      "+-----------+--------+--------------------+----------+---+------------+\n",
      "\n"
     ]
    }
   ],
   "source": [
    "df = spark.read.format(\"delta\").option(\"versionAsOf\", 2).load(\"mock_delta\")\n",
    "\n",
    "df.show(30)"
   ]
  },
  {
   "cell_type": "code",
   "execution_count": 20,
   "id": "palestinian-external",
   "metadata": {},
   "outputs": [
    {
     "data": {
      "text/plain": [
       "DataFrame[]"
      ]
     },
     "execution_count": 20,
     "metadata": {},
     "output_type": "execute_result"
    }
   ],
   "source": [
    "# time is in days, so we will not see effect immediately\n",
    "deltaTable.vacuum()\n",
    "\n",
    "\n",
    "# Recursively vacuum directories associated with the Delta table and remove data files \n",
    "# that are no longer in the latest state of the transaction log for the table and are \n",
    "# older than a retention threshold. default retention is 7d. "
   ]
  },
  {
   "cell_type": "markdown",
   "id": "ecological-introduction",
   "metadata": {},
   "source": [
    "# misc \n"
   ]
  },
  {
   "cell_type": "code",
   "execution_count": 21,
   "id": "historic-storm",
   "metadata": {},
   "outputs": [
    {
     "data": {
      "text/plain": [
       "[Table(name='customers', database=None, description=None, tableType='TEMPORARY', isTemporary=True)]"
      ]
     },
     "execution_count": 21,
     "metadata": {},
     "output_type": "execute_result"
    }
   ],
   "source": [
    "spark.catalog.listDatabases()\n",
    "#spark.sql('show databases').show()\n",
    "spark.catalog.listTables('default')"
   ]
  },
  {
   "cell_type": "code",
   "execution_count": 22,
   "id": "described-kinase",
   "metadata": {
    "collapsed": true
   },
   "outputs": [
    {
     "data": {
      "application/json": {
       "cell": {
        "!": "OSMagics",
        "HTML": "Other",
        "SVG": "Other",
        "bash": "Other",
        "capture": "ExecutionMagics",
        "debug": "ExecutionMagics",
        "file": "Other",
        "html": "DisplayMagics",
        "javascript": "DisplayMagics",
        "js": "DisplayMagics",
        "latex": "DisplayMagics",
        "markdown": "DisplayMagics",
        "perl": "Other",
        "prun": "ExecutionMagics",
        "pypy": "Other",
        "python": "Other",
        "python2": "Other",
        "python3": "Other",
        "ruby": "Other",
        "script": "ScriptMagics",
        "sh": "Other",
        "svg": "DisplayMagics",
        "sx": "OSMagics",
        "system": "OSMagics",
        "time": "ExecutionMagics",
        "timeit": "ExecutionMagics",
        "writefile": "OSMagics"
       },
       "line": {
        "alias": "OSMagics",
        "alias_magic": "BasicMagics",
        "autoawait": "AsyncMagics",
        "autocall": "AutoMagics",
        "automagic": "AutoMagics",
        "autosave": "KernelMagics",
        "bookmark": "OSMagics",
        "cat": "Other",
        "cd": "OSMagics",
        "clear": "KernelMagics",
        "colors": "BasicMagics",
        "conda": "PackagingMagics",
        "config": "ConfigMagics",
        "connect_info": "KernelMagics",
        "cp": "Other",
        "debug": "ExecutionMagics",
        "dhist": "OSMagics",
        "dirs": "OSMagics",
        "doctest_mode": "BasicMagics",
        "ed": "Other",
        "edit": "KernelMagics",
        "env": "OSMagics",
        "gui": "BasicMagics",
        "hist": "Other",
        "history": "HistoryMagics",
        "killbgscripts": "ScriptMagics",
        "ldir": "Other",
        "less": "KernelMagics",
        "lf": "Other",
        "lk": "Other",
        "ll": "Other",
        "load": "CodeMagics",
        "load_ext": "ExtensionMagics",
        "loadpy": "CodeMagics",
        "logoff": "LoggingMagics",
        "logon": "LoggingMagics",
        "logstart": "LoggingMagics",
        "logstate": "LoggingMagics",
        "logstop": "LoggingMagics",
        "ls": "Other",
        "lsmagic": "BasicMagics",
        "lx": "Other",
        "macro": "ExecutionMagics",
        "magic": "BasicMagics",
        "man": "KernelMagics",
        "matplotlib": "PylabMagics",
        "mkdir": "Other",
        "more": "KernelMagics",
        "mv": "Other",
        "notebook": "BasicMagics",
        "page": "BasicMagics",
        "pastebin": "CodeMagics",
        "pdb": "ExecutionMagics",
        "pdef": "NamespaceMagics",
        "pdoc": "NamespaceMagics",
        "pfile": "NamespaceMagics",
        "pinfo": "NamespaceMagics",
        "pinfo2": "NamespaceMagics",
        "pip": "PackagingMagics",
        "popd": "OSMagics",
        "pprint": "BasicMagics",
        "precision": "BasicMagics",
        "prun": "ExecutionMagics",
        "psearch": "NamespaceMagics",
        "psource": "NamespaceMagics",
        "pushd": "OSMagics",
        "pwd": "OSMagics",
        "pycat": "OSMagics",
        "pylab": "PylabMagics",
        "qtconsole": "KernelMagics",
        "quickref": "BasicMagics",
        "recall": "HistoryMagics",
        "rehashx": "OSMagics",
        "reload_ext": "ExtensionMagics",
        "rep": "Other",
        "rerun": "HistoryMagics",
        "reset": "NamespaceMagics",
        "reset_selective": "NamespaceMagics",
        "rm": "Other",
        "rmdir": "Other",
        "run": "ExecutionMagics",
        "save": "CodeMagics",
        "sc": "OSMagics",
        "set_env": "OSMagics",
        "store": "StoreMagics",
        "sx": "OSMagics",
        "system": "OSMagics",
        "tb": "ExecutionMagics",
        "time": "ExecutionMagics",
        "timeit": "ExecutionMagics",
        "unalias": "OSMagics",
        "unload_ext": "ExtensionMagics",
        "who": "NamespaceMagics",
        "who_ls": "NamespaceMagics",
        "whos": "NamespaceMagics",
        "xdel": "NamespaceMagics",
        "xmode": "BasicMagics"
       }
      },
      "text/plain": [
       "Available line magics:\n",
       "%alias  %alias_magic  %autoawait  %autocall  %automagic  %autosave  %bookmark  %cat  %cd  %clear  %colors  %conda  %config  %connect_info  %cp  %debug  %dhist  %dirs  %doctest_mode  %ed  %edit  %env  %gui  %hist  %history  %killbgscripts  %ldir  %less  %lf  %lk  %ll  %load  %load_ext  %loadpy  %logoff  %logon  %logstart  %logstate  %logstop  %ls  %lsmagic  %lx  %macro  %magic  %man  %matplotlib  %mkdir  %more  %mv  %notebook  %page  %pastebin  %pdb  %pdef  %pdoc  %pfile  %pinfo  %pinfo2  %pip  %popd  %pprint  %precision  %prun  %psearch  %psource  %pushd  %pwd  %pycat  %pylab  %qtconsole  %quickref  %recall  %rehashx  %reload_ext  %rep  %rerun  %reset  %reset_selective  %rm  %rmdir  %run  %save  %sc  %set_env  %store  %sx  %system  %tb  %time  %timeit  %unalias  %unload_ext  %who  %who_ls  %whos  %xdel  %xmode\n",
       "\n",
       "Available cell magics:\n",
       "%%!  %%HTML  %%SVG  %%bash  %%capture  %%debug  %%file  %%html  %%javascript  %%js  %%latex  %%markdown  %%perl  %%prun  %%pypy  %%python  %%python2  %%python3  %%ruby  %%script  %%sh  %%svg  %%sx  %%system  %%time  %%timeit  %%writefile\n",
       "\n",
       "Automagic is ON, % prefix IS NOT needed for line magics."
      ]
     },
     "execution_count": 22,
     "metadata": {},
     "output_type": "execute_result"
    }
   ],
   "source": [
    "%lsmagic\n"
   ]
  },
  {
   "cell_type": "code",
   "execution_count": null,
   "id": "sporting-justice",
   "metadata": {},
   "outputs": [],
   "source": []
  }
 ],
 "metadata": {
  "kernelspec": {
   "display_name": "Python 3",
   "language": "python",
   "name": "python3"
  },
  "language_info": {
   "codemirror_mode": {
    "name": "ipython",
    "version": 3
   },
   "file_extension": ".py",
   "mimetype": "text/x-python",
   "name": "python",
   "nbconvert_exporter": "python",
   "pygments_lexer": "ipython3",
   "version": "3.8.9"
  }
 },
 "nbformat": 4,
 "nbformat_minor": 5
}
